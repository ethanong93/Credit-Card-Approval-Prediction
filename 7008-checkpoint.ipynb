{
 "cells": [
  {
   "cell_type": "code",
   "execution_count": 14,
   "id": "2b5773b8",
   "metadata": {},
   "outputs": [],
   "source": [
    "# # preprocess.py\n",
    "import pandas   as pd\n",
    "\n",
    "from sklearn import preprocessing\n",
    "from sklearn.model_selection import train_test_split\n",
    "\n",
    "# Reading the dataset\n",
    "# df = pd.read_csv('/content/data/heart_2020_cleaned_test100.csv')\n",
    "df = pd.read_csv('https://raw.githubusercontent.com/Zivid99/Alzheimer-s-Disease-Vaster/main/heart_2020_cleaned_test100.csv')\n",
    "# Checking and Removing Duplicate rows\n",
    "df = df.drop_duplicates()\n",
    "\n",
    "#  Data Encoding\n",
    "encode_AgeCategory = {'55-59':57, '80 or older':80, '65-69':67,\n",
    "                      '75-79':77,'40-44':42,'70-74':72,'60-64':62,\n",
    "                      '50-54':52,'45-49':47,'18-24':21,'35-39':37,\n",
    "                      '30-34':32,'25-29':27}\n",
    "df['AgeCategory'] = df['AgeCategory'].apply(lambda x: encode_AgeCategory[x])\n",
    "df['AgeCategory'] = df['AgeCategory'].astype('float')\n",
    "\n",
    "# Integer encode columns with 2 unique values\n",
    "for col in ['HeartDisease', 'Smoking', 'AlcoholDrinking', 'Stroke', 'DiffWalking', 'Sex', 'PhysicalActivity', 'Asthma', 'KidneyDisease', 'SkinCancer']:\n",
    "    if df[col].dtype == 'O':\n",
    "        le = preprocessing.LabelEncoder()\n",
    "        df[col] = le.fit_transform(df[col])\n",
    "\n",
    "# One-hot encode columns with more than 2 unique values\n",
    "df = pd.get_dummies(df, columns=['Race', 'Diabetic', 'GenHealth', ], prefix = ['Race', 'Diabetic', 'GenHealth'])\n",
    "\n",
    "# Feature Scaling\n",
    "standardScaler = preprocessing.StandardScaler()\n",
    "columns_to_scale = ['BMI', 'PhysicalHealth', 'MentalHealth', 'AgeCategory', 'SleepTime']\n",
    "df[columns_to_scale] = standardScaler.fit_transform(df[columns_to_scale])\n",
    "\n",
    "# Undersampling\n",
    "Y = df['HeartDisease']\n",
    "X = df.drop(['HeartDisease'], axis = 1)\n",
    "\n",
    "# Separation of the data set\n",
    "X_train, X_test, y_train, y_test = train_test_split(X, Y, test_size = 0.33, random_state = 2)\n",
    "\n",
    "X_train.to_csv('data/X_train.csv', index = 0)\n",
    "X_test.to_csv('data/X_test.csv', index = 0)\n",
    "y_train.to_csv('data/y_train.csv', index = 0)\n",
    "y_test.to_csv('data/y_test.csv', index = 0)"
   ]
  },
  {
   "cell_type": "markdown",
   "id": "aa5f4f9a",
   "metadata": {},
   "source": [
    "# XGBoost"
   ]
  },
  {
   "cell_type": "code",
   "execution_count": 23,
   "id": "bce7c329",
   "metadata": {
    "scrolled": true
   },
   "outputs": [
    {
     "name": "stdout",
     "output_type": "stream",
     "text": [
      "Fitting 3 folds for each of 64 candidates, totalling 192 fits\n"
     ]
    }
   ],
   "source": [
    "from sklearn.model_selection import GridSearchCV\n",
    "import pandas   as pd\n",
    "import argparse\n",
    "import pickle\n",
    "import time\n",
    "from sklearn.metrics import accuracy_score,confusion_matrix, precision_score, recall_score, auc,roc_curve,f1_score,roc_auc_score,precision_recall_fscore_support\n",
    "\n",
    "## for xgboost- new library\n",
    "from xgboost import XGBClassifier\n",
    "\n",
    "# Parser for command-line options, arguments and sub-commands\n",
    "temp =  argparse.ArgumentParser()\n",
    "\n",
    "# read train set\n",
    "X_train= pd.read_csv('data/X_train.csv')\n",
    "y_train= pd.read_csv('data/y_train.csv')\n",
    "\n",
    "#grid search parameters\n",
    "xgboost_gs_classifier = XGBClassifier()\n",
    "gs_params ={'colsample_bytree': [0.4,0.5],\n",
    " 'gamma': [0.3,0.5],\n",
    " 'learning_rate': [0.01,0.1],\n",
    " 'max_depth': [5,10],\n",
    " 'min_child_weight': [5,9],\n",
    " 'n_estimators': [200,300]}\n",
    "\n",
    "# dtree_clf = dtree\n",
    "# record start time\n",
    "start_time = time.time()\n",
    "xgboost_gs_model=GridSearchCV(xgboost_gs_classifier,param_grid=gs_params,scoring='neg_log_loss',n_jobs=-1,cv=3,verbose=3)\n",
    "xgboost_gs_model.fit(X_train,y_train)\n",
    "\n",
    "# record end time \n",
    "end_time = time.time()\n",
    "time_cost = end_time - start_time\n",
    "\n",
    "# save the model\n",
    "with open('pkl/xgboost_clf.pkl','wb') as f:\n",
    "    pickle.dump((xgboost_gs_classifier,time_cost), f)\n",
    "\n",
    "xgb_gs_model_preds=xgboost_gs_model.predict(X_test)"
   ]
  },
  {
   "cell_type": "code",
   "execution_count": 24,
   "id": "1f12e9d8",
   "metadata": {},
   "outputs": [
    {
     "name": "stdout",
     "output_type": "stream",
     "text": [
      "XGBoost-GridSearch\n",
      "Accuracy score:  0.9090909090909091\n",
      "ROC_AUC_Score:  0.5\n"
     ]
    }
   ],
   "source": [
    "print('XGBoost-GridSearch')\n",
    "xgb_gs_model_preds_acc=accuracy_score(y_test,xgb_gs_model_preds)\n",
    "print('Accuracy score: ',xgb_gs_model_preds_acc)\n",
    "xgb_gs_model_preds_roc=roc_auc_score(y_test,xgb_gs_model_preds)\n",
    "print('ROC_AUC_Score: ',xgb_gs_model_preds_roc)"
   ]
  },
  {
   "cell_type": "code",
   "execution_count": null,
   "id": "97092435",
   "metadata": {},
   "outputs": [],
   "source": []
  }
 ],
 "metadata": {
  "kernelspec": {
   "display_name": "Py 310",
   "language": "python",
   "name": "py310"
  },
  "language_info": {
   "codemirror_mode": {
    "name": "ipython",
    "version": 3
   },
   "file_extension": ".py",
   "mimetype": "text/x-python",
   "name": "python",
   "nbconvert_exporter": "python",
   "pygments_lexer": "ipython3",
   "version": "3.10.8"
  }
 },
 "nbformat": 4,
 "nbformat_minor": 5
}
